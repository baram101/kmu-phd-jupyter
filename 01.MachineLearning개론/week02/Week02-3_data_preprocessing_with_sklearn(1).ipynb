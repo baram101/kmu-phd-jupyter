{
 "cells": [
  {
   "cell_type": "code",
   "execution_count": 1,
   "id": "57b8ba45",
   "metadata": {},
   "outputs": [],
   "source": [
    "import pandas as pd"
   ]
  },
  {
   "cell_type": "code",
   "execution_count": 4,
   "id": "2f087d4f",
   "metadata": {},
   "outputs": [],
   "source": [
    "df = pd.read_csv('data/train.csv')"
   ]
  },
  {
   "cell_type": "code",
   "execution_count": 5,
   "id": "a37408d3",
   "metadata": {},
   "outputs": [
    {
     "data": {
      "text/html": [
       "<div>\n",
       "<style scoped>\n",
       "    .dataframe tbody tr th:only-of-type {\n",
       "        vertical-align: middle;\n",
       "    }\n",
       "\n",
       "    .dataframe tbody tr th {\n",
       "        vertical-align: top;\n",
       "    }\n",
       "\n",
       "    .dataframe thead th {\n",
       "        text-align: right;\n",
       "    }\n",
       "</style>\n",
       "<table border=\"1\" class=\"dataframe\">\n",
       "  <thead>\n",
       "    <tr style=\"text-align: right;\">\n",
       "      <th></th>\n",
       "      <th>PassengerId</th>\n",
       "      <th>Survived</th>\n",
       "      <th>Pclass</th>\n",
       "      <th>Name</th>\n",
       "      <th>Sex</th>\n",
       "      <th>Age</th>\n",
       "      <th>SibSp</th>\n",
       "      <th>Parch</th>\n",
       "      <th>Ticket</th>\n",
       "      <th>Fare</th>\n",
       "      <th>Cabin</th>\n",
       "      <th>Embarked</th>\n",
       "    </tr>\n",
       "  </thead>\n",
       "  <tbody>\n",
       "    <tr>\n",
       "      <th>0</th>\n",
       "      <td>1</td>\n",
       "      <td>0</td>\n",
       "      <td>3</td>\n",
       "      <td>Braund, Mr. Owen Harris</td>\n",
       "      <td>male</td>\n",
       "      <td>22.0</td>\n",
       "      <td>1</td>\n",
       "      <td>0</td>\n",
       "      <td>A/5 21171</td>\n",
       "      <td>7.2500</td>\n",
       "      <td>NaN</td>\n",
       "      <td>S</td>\n",
       "    </tr>\n",
       "    <tr>\n",
       "      <th>1</th>\n",
       "      <td>2</td>\n",
       "      <td>1</td>\n",
       "      <td>1</td>\n",
       "      <td>Cumings, Mrs. John Bradley (Florence Briggs Th...</td>\n",
       "      <td>female</td>\n",
       "      <td>38.0</td>\n",
       "      <td>1</td>\n",
       "      <td>0</td>\n",
       "      <td>PC 17599</td>\n",
       "      <td>71.2833</td>\n",
       "      <td>C85</td>\n",
       "      <td>C</td>\n",
       "    </tr>\n",
       "    <tr>\n",
       "      <th>2</th>\n",
       "      <td>3</td>\n",
       "      <td>1</td>\n",
       "      <td>3</td>\n",
       "      <td>Heikkinen, Miss. Laina</td>\n",
       "      <td>female</td>\n",
       "      <td>26.0</td>\n",
       "      <td>0</td>\n",
       "      <td>0</td>\n",
       "      <td>STON/O2. 3101282</td>\n",
       "      <td>7.9250</td>\n",
       "      <td>NaN</td>\n",
       "      <td>S</td>\n",
       "    </tr>\n",
       "    <tr>\n",
       "      <th>3</th>\n",
       "      <td>4</td>\n",
       "      <td>1</td>\n",
       "      <td>1</td>\n",
       "      <td>Futrelle, Mrs. Jacques Heath (Lily May Peel)</td>\n",
       "      <td>female</td>\n",
       "      <td>35.0</td>\n",
       "      <td>1</td>\n",
       "      <td>0</td>\n",
       "      <td>113803</td>\n",
       "      <td>53.1000</td>\n",
       "      <td>C123</td>\n",
       "      <td>S</td>\n",
       "    </tr>\n",
       "    <tr>\n",
       "      <th>4</th>\n",
       "      <td>5</td>\n",
       "      <td>0</td>\n",
       "      <td>3</td>\n",
       "      <td>Allen, Mr. William Henry</td>\n",
       "      <td>male</td>\n",
       "      <td>35.0</td>\n",
       "      <td>0</td>\n",
       "      <td>0</td>\n",
       "      <td>373450</td>\n",
       "      <td>8.0500</td>\n",
       "      <td>NaN</td>\n",
       "      <td>S</td>\n",
       "    </tr>\n",
       "  </tbody>\n",
       "</table>\n",
       "</div>"
      ],
      "text/plain": [
       "   PassengerId  Survived  Pclass  \\\n",
       "0            1         0       3   \n",
       "1            2         1       1   \n",
       "2            3         1       3   \n",
       "3            4         1       1   \n",
       "4            5         0       3   \n",
       "\n",
       "                                                Name     Sex   Age  SibSp  \\\n",
       "0                            Braund, Mr. Owen Harris    male  22.0      1   \n",
       "1  Cumings, Mrs. John Bradley (Florence Briggs Th...  female  38.0      1   \n",
       "2                             Heikkinen, Miss. Laina  female  26.0      0   \n",
       "3       Futrelle, Mrs. Jacques Heath (Lily May Peel)  female  35.0      1   \n",
       "4                           Allen, Mr. William Henry    male  35.0      0   \n",
       "\n",
       "   Parch            Ticket     Fare Cabin Embarked  \n",
       "0      0         A/5 21171   7.2500   NaN        S  \n",
       "1      0          PC 17599  71.2833   C85        C  \n",
       "2      0  STON/O2. 3101282   7.9250   NaN        S  \n",
       "3      0            113803  53.1000  C123        S  \n",
       "4      0            373450   8.0500   NaN        S  "
      ]
     },
     "execution_count": 5,
     "metadata": {},
     "output_type": "execute_result"
    }
   ],
   "source": [
    "df.head()"
   ]
  },
  {
   "cell_type": "markdown",
   "id": "8da48e4c",
   "metadata": {},
   "source": [
    "## Column Definition and Key value\n",
    "\n",
    "\n",
    "|  Variable   | Definition          | Key                                            |\n",
    "|-------------|---------------------|------------------------------------------------|\n",
    "| PassengerId | PassengerID         | \n",
    "| Survived    | Survival            | 0 = No, 1 = Yes                                |\n",
    "| Pclass      | Ticket class        | 1 = 1st, 2 = 2nd, 3 = 3rd                      |\n",
    "| Name        | Name                |                                                |\n",
    "| Sex         | Sex                 |                                                |\n",
    "| Age\t      | Age in years        |\t                                             |\n",
    "| SibSp\t      | # of siblings / spouses aboard the Titanic |                         |\n",
    "| Parch\t      | # of parents / children aboard the Titanic\t|                        |\n",
    "| Ticket      | Ticket number       |                                                |\n",
    "| Fare\t      | Passenger fare      |\t                                             |\n",
    "| Cabin\t      | Cabin number        |                                                |\n",
    "| Embarked    | Port of Embarkation | C = Cherbourg, Q = Queenstown, S = Southampton |"
   ]
  },
  {
   "cell_type": "markdown",
   "id": "99dca01d",
   "metadata": {},
   "source": [
    "# 1. Standardization or Normalization\n",
    "- <span style = 'font-size:1.2em;line-height:1.5em'>사용하는 ML모델에 따라서 데이터를 표준 정규 분포 스케일로 표준화(Standardize)하거나 0-1스케일로 정규화 해야할 때가 있습니다.</span>\n",
    "- <span style = 'font-size:1.2em;line-height:1.5em'>scikit-learn에서는 train, test set에서 같은 스케일로 데이터를 변환하도록 하는 기능을 제공합니다. </span>\n",
    "\n",
    "- <span style = 'font-size:1.2em;line-height:1.5em'><b>Normalization (MinMaxScaling)</b></span>\n",
    "$$Z = {(x-\\mu)\\over\\sigma} $$\n",
    "- <span style = 'font-size:1.2em;line-height:1.5em'><b>Standrdization</b></span>\n",
    "$$Z = {(x-x_{min})\\over(x_{max}-x_{min})} $$"
   ]
  },
  {
   "cell_type": "markdown",
   "id": "dcd745d1",
   "metadata": {},
   "source": [
    "## 사용 예시"
   ]
  },
  {
   "cell_type": "markdown",
   "id": "a87b3d5d",
   "metadata": {},
   "source": [
    "### 먼저, 사용할 변수만을 정의하고 해당 변수에 대한 데이터를 추출합니다."
   ]
  },
  {
   "cell_type": "code",
   "execution_count": 29,
   "id": "3a1d689f",
   "metadata": {},
   "outputs": [],
   "source": [
    "x_cols = ['Pclass', 'Age', 'Fare'] ## 실제 수치형 데이터는 아니지만, 그냥 그렇다고 합시다.\n",
    "y_cols = ['Survived']\n",
    "df_x = df[x_cols]\n",
    "df_y = df[y_cols]\n",
    "np_x = df_x.values\n",
    "np_y = df_y.values"
   ]
  },
  {
   "cell_type": "markdown",
   "id": "c3a94410",
   "metadata": {},
   "source": [
    "## 수치형 데이터인 Fare column(index=4)을 standardization, normalization"
   ]
  },
  {
   "cell_type": "code",
   "execution_count": 9,
   "id": "195e45b7",
   "metadata": {},
   "outputs": [],
   "source": [
    "from sklearn.preprocessing import StandardScaler\n",
    "from sklearn.preprocessing import MinMaxScalerMaxScaler"
   ]
  },
  {
   "cell_type": "markdown",
   "id": "283daab5",
   "metadata": {},
   "source": [
    "### Standardization"
   ]
  },
  {
   "cell_type": "code",
   "execution_count": 30,
   "id": "18783593",
   "metadata": {},
   "outputs": [],
   "source": [
    "scaler = StandardScaler()"
   ]
  },
  {
   "cell_type": "code",
   "execution_count": 31,
   "id": "38360dca",
   "metadata": {},
   "outputs": [
    {
     "data": {
      "text/plain": [
       "StandardScaler()"
      ]
     },
     "execution_count": 31,
     "metadata": {},
     "output_type": "execute_result"
    }
   ],
   "source": [
    "scaler.fit(np_x)"
   ]
  },
  {
   "cell_type": "code",
   "execution_count": 33,
   "id": "e86e5eaa",
   "metadata": {},
   "outputs": [],
   "source": [
    "new_np_x = scaler.transform(np_x)"
   ]
  },
  {
   "cell_type": "code",
   "execution_count": 38,
   "id": "d59ebaf4",
   "metadata": {},
   "outputs": [
    {
     "name": "stdout",
     "output_type": "stream",
     "text": [
      "[[ 3.     22.      7.25  ]\n",
      " [ 1.     38.     71.2833]\n",
      " [ 3.     26.      7.925 ]\n",
      " ...\n",
      " [ 3.         nan 23.45  ]\n",
      " [ 1.     26.     30.    ]\n",
      " [ 3.     32.      7.75  ]]\n",
      "[[1.         0.27117366 0.01415106]\n",
      " [0.         0.4722292  0.13913574]\n",
      " [1.         0.32143755 0.01546857]\n",
      " ...\n",
      " [1.                nan 0.04577135]\n",
      " [0.         0.32143755 0.0585561 ]\n",
      " [1.         0.39683338 0.01512699]]\n"
     ]
    }
   ],
   "source": [
    "print(np_x)\n",
    "print(new_np_x)"
   ]
  },
  {
   "cell_type": "markdown",
   "id": "e6c9c1b5",
   "metadata": {},
   "source": [
    "### Normalization(Min-Max scaler)"
   ]
  },
  {
   "cell_type": "code",
   "execution_count": 36,
   "id": "60e6120b",
   "metadata": {},
   "outputs": [],
   "source": [
    "scaler = MinMaxScaler()\n",
    "scaler.fit(np_x)\n",
    "new_np_x = scaler.transform(np_x)"
   ]
  },
  {
   "cell_type": "code",
   "execution_count": 37,
   "id": "e644b886",
   "metadata": {},
   "outputs": [
    {
     "name": "stdout",
     "output_type": "stream",
     "text": [
      "[[ 3.     22.      7.25  ]\n",
      " [ 1.     38.     71.2833]\n",
      " [ 3.     26.      7.925 ]\n",
      " ...\n",
      " [ 3.         nan 23.45  ]\n",
      " [ 1.     26.     30.    ]\n",
      " [ 3.     32.      7.75  ]]\n",
      "[[1.         0.27117366 0.01415106]\n",
      " [0.         0.4722292  0.13913574]\n",
      " [1.         0.32143755 0.01546857]\n",
      " ...\n",
      " [1.                nan 0.04577135]\n",
      " [0.         0.32143755 0.0585561 ]\n",
      " [1.         0.39683338 0.01512699]]\n"
     ]
    }
   ],
   "source": [
    "print(np_x)\n",
    "print(new_np_x)"
   ]
  },
  {
   "cell_type": "markdown",
   "id": "b3be99a5",
   "metadata": {},
   "source": [
    "# 2. Category Encoder\n",
    "- <span style = 'font-size:1.2em;line-height:1.5em'>ML모델에는 카테고리 값 자체가 들어갈 수는 없습니다.</span>\n",
    "- <span style = 'font-size:1.2em;line-height:1.5em'>카테고리 값을 vector로 변환하여 이를 입력값으로 넣어야 합니다. </span>\n",
    "- <span style = 'font-size:1.2em;line-height:1.5em'>대표적인 예시로 onehot encoder가 있습니다.</span>"
   ]
  },
  {
   "cell_type": "markdown",
   "id": "0e312ed4",
   "metadata": {},
   "source": [
    "## onehot encoding\n",
    "![onehot_encoding](img/onehot_encoding.png)\n",
    "-출처: https://towardsdatascience.com/building-a-one-hot-encoding-layer-with-tensorflow-f907d686bf39"
   ]
  },
  {
   "cell_type": "code",
   "execution_count": 39,
   "id": "02abecdc",
   "metadata": {},
   "outputs": [],
   "source": [
    "from sklearn.preprocessing import OneHotEncoder"
   ]
  },
  {
   "cell_type": "code",
   "execution_count": 49,
   "id": "74a11d7c",
   "metadata": {},
   "outputs": [],
   "source": [
    "x_cols = ['Pclass', 'Sex']\n",
    "y_cols = ['Survived']\n",
    "df_x = df[x_cols]\n",
    "df_y = df[y_cols]\n",
    "np_x = df_x.values\n",
    "np_y = df_y.values"
   ]
  },
  {
   "cell_type": "code",
   "execution_count": 50,
   "id": "e121d4fe",
   "metadata": {},
   "outputs": [
    {
     "data": {
      "text/plain": [
       "OneHotEncoder()"
      ]
     },
     "execution_count": 50,
     "metadata": {},
     "output_type": "execute_result"
    }
   ],
   "source": [
    "encoder = OneHotEncoder()\n",
    "encoder.fit(np_x)"
   ]
  },
  {
   "cell_type": "code",
   "execution_count": 51,
   "id": "186ed5d6",
   "metadata": {},
   "outputs": [
    {
     "data": {
      "text/plain": [
       "array([[3, 'male'],\n",
       "       [1, 'female'],\n",
       "       [3, 'female'],\n",
       "       ...,\n",
       "       [3, 'female'],\n",
       "       [1, 'male'],\n",
       "       [3, 'male']], dtype=object)"
      ]
     },
     "execution_count": 51,
     "metadata": {},
     "output_type": "execute_result"
    }
   ],
   "source": [
    "np_x"
   ]
  },
  {
   "cell_type": "code",
   "execution_count": 63,
   "id": "467bb7ad",
   "metadata": {},
   "outputs": [],
   "source": [
    "new_np_x = encoder.transform(np_x).toarray()"
   ]
  },
  {
   "cell_type": "code",
   "execution_count": 64,
   "id": "0a90a402",
   "metadata": {},
   "outputs": [
    {
     "data": {
      "text/plain": [
       "array([[0., 0., 1., 0., 1.],\n",
       "       [1., 0., 0., 1., 0.],\n",
       "       [0., 0., 1., 1., 0.],\n",
       "       ...,\n",
       "       [0., 0., 1., 1., 0.],\n",
       "       [1., 0., 0., 0., 1.],\n",
       "       [0., 0., 1., 0., 1.]])"
      ]
     },
     "execution_count": 64,
     "metadata": {},
     "output_type": "execute_result"
    }
   ],
   "source": [
    "new_np_x"
   ]
  },
  {
   "cell_type": "markdown",
   "id": "9a768acc",
   "metadata": {},
   "source": [
    "# 연습문제"
   ]
  },
  {
   "cell_type": "markdown",
   "id": "7c19c082",
   "metadata": {},
   "source": [
    "<span style = 'font-size:1.3em;line-height:1.5em'><b>1. 다음과 같은 상황을 가정해보자. 원래는 배에 특등석이 있어, 'Pclass'에는 'Special'이라는 카테고리도 있다고 가정해보자. 데이터에는 이 카테고리 값은 없지만 이를 고려하여 onehot encoding을 해야한다고 할 때, 어떻게 해야 할까? 구글링해서 찾아보고 이를 활용해보자</b></span>\n"
   ]
  },
  {
   "cell_type": "code",
   "execution_count": null,
   "id": "73e8ad94",
   "metadata": {},
   "outputs": [],
   "source": []
  }
 ],
 "metadata": {
  "kernelspec": {
   "display_name": "Python 3 (ipykernel)",
   "language": "python",
   "name": "python3"
  },
  "language_info": {
   "codemirror_mode": {
    "name": "ipython",
    "version": 3
   },
   "file_extension": ".py",
   "mimetype": "text/x-python",
   "name": "python",
   "nbconvert_exporter": "python",
   "pygments_lexer": "ipython3",
   "version": "3.9.12"
  }
 },
 "nbformat": 4,
 "nbformat_minor": 5
}
